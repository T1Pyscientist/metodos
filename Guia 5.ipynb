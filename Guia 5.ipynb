{
 "cells": [
  {
   "cell_type": "code",
   "execution_count": 1,
   "metadata": {},
   "outputs": [],
   "source": [
    "import numpy as np"
   ]
  },
  {
   "attachments": {},
   "cell_type": "markdown",
   "metadata": {},
   "source": [
    "Ejercicio 5"
   ]
  },
  {
   "cell_type": "code",
   "execution_count": 3,
   "metadata": {},
   "outputs": [
    {
     "name": "stdout",
     "output_type": "stream",
     "text": [
      "det (A+B) - det(A) - det(B) = -272.99999999999994\n",
      "det (A+B) - det(A) - det(B) = -665.0\n",
      "det (A+B) - det(A) - det(B) = 104.00000000000014\n",
      "det (A+B) - det(A) - det(B) = 752.0000000000005\n",
      "det (A+B) - det(A) - det(B) = -45.999999999999964\n"
     ]
    }
   ],
   "source": [
    "# Numero de intentos\n",
    "n = 5\n",
    "\n",
    "for i in range(n):\n",
    "    A = np.random.randint(0, 5, size=(5, 5))\n",
    "    B = np.random.randint(0, 5, size=(5, 5))\n",
    "    det = np.linalg.det(A + B) - np.linalg.det(A) - np.linalg.det(B)\n",
    "    print(f'det (A+B) - det(A) - det(B) = {det}')\n"
   ]
  },
  {
   "attachments": {},
   "cell_type": "markdown",
   "metadata": {},
   "source": [
    "Ejercicio 6"
   ]
  },
  {
   "cell_type": "code",
   "execution_count": 9,
   "metadata": {},
   "outputs": [
    {
     "name": "stdout",
     "output_type": "stream",
     "text": [
      "det (AB) = 14256, det(A)det(B) = 14256\n",
      "det (AB) = 17280, det(A)det(B) = 17280\n",
      "det (AB) = -480, det(A)det(B) = -480\n",
      "det (AB) = 1200, det(A)det(B) = 1200\n",
      "det (AB) = -8008, det(A)det(B) = -8008\n"
     ]
    }
   ],
   "source": [
    "# Numero de intentos\n",
    "n = 5\n",
    "\n",
    "for i in range(n):\n",
    "    A = np.random.randint(0, 5, size=(5, 5))\n",
    "    B = np.random.randint(0, 5, size=(5, 5))\n",
    "    print(f'det (AB) = {round(np.linalg.det(A @ B))}, det(A)det(B) = {round((np.linalg.det(A) * np.linalg.det(B)))}')"
   ]
  },
  {
   "attachments": {},
   "cell_type": "markdown",
   "metadata": {},
   "source": [
    "Ejercicio 12"
   ]
  },
  {
   "cell_type": "code",
   "execution_count": 70,
   "metadata": {},
   "outputs": [
    {
     "name": "stdout",
     "output_type": "stream",
     "text": [
      "Xi = 2.33 = 2.33\n",
      "Xi = 2.33 = 2.33\n",
      "Xi = 2.33 = 2.33\n",
      "Xi = 2.33 = 2.33\n"
     ]
    }
   ],
   "source": [
    "def cramer(A, b):\n",
    "    n = b.shape[0]\n",
    "    x = np.zeros(b.shape)\n",
    "    for i in range(n):\n",
    "        Ai_b = A.copy()\n",
    "        Ai_b[:, i] = b.flatten()\n",
    "        x[i, 0] = np.linalg.det(Ai_b) / np.linalg.det(A)\n",
    "\n",
    "    return x\n",
    "\n",
    "\n",
    "# Numero de intentos\n",
    "n = 1\n",
    "\n",
    "for i in range(n):\n",
    "    A = np.random.randint(0, 5, size=(4, 4))\n",
    "    b = np.random.randint(0, 5, size=(4, 1))\n",
    "    \n",
    "    try:\n",
    "        x_1 = np.linalg.solve(A, b)\n",
    "        x_2 = cramer(A, b)\n",
    "        for j in range(x_1.shape[0]):\n",
    "            print(\"Xi = {0:.2f} = {1:.2f}\".format(x_1[i,0], x_2[i,0]))\n",
    "\n",
    "    except:\n",
    "        print(\"Matriz singular\")"
   ]
  },
  {
   "attachments": {},
   "cell_type": "markdown",
   "metadata": {},
   "source": [
    "**Ejercicio 10**\n",
    "\n",
    "- $x_{k+1} = A^kx_0$\n",
    "\n",
    "Queremos ver si para una matriz $A$ con valores aleatorios, el metodo de la potencia converge a un autovector de $A$. Para ello, creamos una secuencia con $k = 0, 1, ...$ y comparamos el autovector y autovalor al que devuelve la funcion `np.linalg.eig`"
   ]
  },
  {
   "cell_type": "code",
   "execution_count": 32,
   "metadata": {},
   "outputs": [],
   "source": [
    "A = np.random.randint(0, 10, size=(4, 4))\n",
    "x_0 = np.array([1, 0, 1, 0]).reshape(-1, 1)"
   ]
  },
  {
   "cell_type": "code",
   "execution_count": 33,
   "metadata": {},
   "outputs": [
    {
     "name": "stdout",
     "output_type": "stream",
     "text": [
      "k\tValorEstimado\tVectorEstimado\n",
      "0\t8.50\t\t[0.71 0.   0.71 0.  ]\n",
      "1\t12.32\t\t[0.65 0.46 0.46 0.39]\n",
      "2\t12.55\t\t[0.66 0.31 0.39 0.56]\n",
      "3\t12.50\t\t[0.56 0.3  0.41 0.65]\n",
      "4\t12.34\t\t[0.53 0.28 0.37 0.71]\n",
      "5\t12.23\t\t[0.5  0.26 0.36 0.75]\n",
      "6\t12.14\t\t[0.48 0.25 0.35 0.77]\n",
      "7\t12.07\t\t[0.46 0.24 0.34 0.78]\n",
      "8\t12.02\t\t[0.45 0.24 0.33 0.79]\n",
      "9\t11.99\t\t[0.45 0.23 0.33 0.8 ]\n",
      "10\t11.96\t\t[0.44 0.23 0.33 0.8 ]\n",
      "11\t11.94\t\t[0.44 0.23 0.32 0.81]\n",
      "12\t11.93\t\t[0.43 0.23 0.32 0.81]\n",
      "13\t11.92\t\t[0.43 0.23 0.32 0.81]\n",
      "14\t11.91\t\t[0.43 0.23 0.32 0.81]\n",
      "\n",
      "\tValor np\tVector np\n",
      "\t11.89\t\t[0.43+0.j 0.22+0.j 0.32+0.j 0.82+0.j]\n"
     ]
    }
   ],
   "source": [
    "# Autovector y autovalor de np.linalg.eig\n",
    "values, vectors = np.linalg.eig(A)\n",
    "v1 = vectors[:, 0]\n",
    "valor = values[0].real\n",
    "\n",
    "print('k\\tValorEstimado\\tVectorEstimado')\n",
    "\n",
    "for k in range(15):\n",
    "    # Calculamos X_k+1 = A^k * x_0\n",
    "    x_k1 = np.linalg.matrix_power(A, k) @ x_0\n",
    "\n",
    "    # Normalizamos el vector x_k1\n",
    "    x_k1_norm = x_k1 / np.linalg.norm(x_k1)\n",
    "    # Extraemos el autovalor de x_k1_norm\n",
    "    autovalor_k = x_k1_norm.T @ A @ x_k1_norm\n",
    "\n",
    "    # Comparamos resultados\n",
    "    print(f'{k}\\t{autovalor_k[0][0]:.2f}\\t\\t{x_k1_norm.flatten().round(2)}')\n",
    "\n",
    "print(f'\\n\\tValor np\\tVector np')\n",
    "print(f'\\t{valor:.2f}\\t\\t{v1.round(2)}')\n"
   ]
  },
  {
   "attachments": {},
   "cell_type": "markdown",
   "metadata": {},
   "source": [
    "Usamos el metodo de la potencia de manera diferente. Calculamos la secuencia con la siguiente formula:\n",
    "- $x_{k+1} = 1/u_{k}(Ax_k)$ donde $u_{k} =$ entrada con mayor valor absoluto de $Ax_k$"
   ]
  },
  {
   "cell_type": "code",
   "execution_count": 36,
   "metadata": {},
   "outputs": [
    {
     "name": "stdout",
     "output_type": "stream",
     "text": [
      "[0.65 0.46 0.46 0.39] [10]\n",
      "[0.66 0.31 0.39 0.56] [12.7]\n",
      "[0.56 0.3  0.41 0.65] [12.5984252]\n",
      "[0.53 0.28 0.37 0.71] [13.68125]\n",
      "[0.5  0.26 0.36 0.75] [12.93823664]\n",
      "[0.48 0.25 0.35 0.77] [12.60608789]\n",
      "[0.46 0.24 0.34 0.78] [12.36898768]\n",
      "[0.45 0.24 0.33 0.79] [12.22357304]\n",
      "[0.45 0.23 0.33 0.8 ] [12.12374046]\n",
      "[0.44 0.23 0.33 0.8 ] [12.05592384]\n",
      "[0.44 0.23 0.32 0.81] [12.00877134]\n",
      "[0.43 0.23 0.32 0.81] [11.97574371]\n",
      "[0.43 0.23 0.32 0.81] [11.95245319]\n",
      "[0.43 0.23 0.32 0.81] [11.93594681]\n",
      "[0.43 0.23 0.32 0.81] [11.92421224]\n"
     ]
    }
   ],
   "source": [
    "def sucecion_potencias(A, x_k) -> tuple:\n",
    "    Ax = A @ x_k\n",
    "    u_k = max(abs(Ax))\n",
    "    x_k1 = Ax / u_k\n",
    "\n",
    "    return x_k1, u_k\n",
    "\n",
    "x_k = x_0\n",
    "for k in range(15):\n",
    "    x_k, u_k = sucecion_potencias(A, x_k)\n",
    "    print((x_k / np.linalg.norm(x_k)).flatten().round(2), u_k)"
   ]
  },
  {
   "attachments": {},
   "cell_type": "markdown",
   "metadata": {},
   "source": [
    "**Ejercicio 11**\n",
    "\n",
    "Comprobamos que tienen los mismos autovalores pero no los mismos autovectores"
   ]
  },
  {
   "cell_type": "code",
   "execution_count": 30,
   "metadata": {},
   "outputs": [
    {
     "name": "stdout",
     "output_type": "stream",
     "text": [
      "-15.1 \t -15.1\n",
      "-3.53 \t -3.53\n",
      "6.31 \t 6.31\n",
      "6.31 \t 6.31\n"
     ]
    }
   ],
   "source": [
    "A = np.random.randint(-10, 10, (4, 4))\n",
    "\n",
    "values_A, vectors_A = np.linalg.eig(A)\n",
    "values_At, vectors_At = np.linalg.eig(A.T)\n",
    "\n",
    "for i in range(4):\n",
    "    print(values_A.flatten().round(2).real[i], '\\t', values_At.flatten().round(2).real[i])"
   ]
  },
  {
   "cell_type": "code",
   "execution_count": 31,
   "metadata": {},
   "outputs": [
    {
     "name": "stdout",
     "output_type": "stream",
     "text": [
      "[-0.61 -0.46  0.28 -0.57] \t [ 0.31  0.47 -0.15  0.81]\n",
      "[-0.94  0.05  0.02  0.33] \t [ 0.64 -0.2   0.73 -0.16]\n",
      "[ 0.56  0.18 -0.54 -0.42] \t [ 0.03  0.39  0.67 -0.02]\n",
      "[ 0.56  0.18 -0.54 -0.42] \t [ 0.03  0.39  0.67 -0.02]\n"
     ]
    }
   ],
   "source": [
    "for i in range(4):\n",
    "    print(vectors_A.real[:, i].round(2), '\\t', vectors_At.real[:, i].round(2))"
   ]
  },
  {
   "attachments": {},
   "cell_type": "markdown",
   "metadata": {},
   "source": [
    "Repetimos el experimento con matriz de 5x5"
   ]
  },
  {
   "cell_type": "code",
   "execution_count": 42,
   "metadata": {},
   "outputs": [
    {
     "name": "stdout",
     "output_type": "stream",
     "text": [
      "4.36 \t 4.36\n",
      "4.36 \t 4.36\n",
      "-13.22 \t -13.22\n",
      "-6.25 \t -6.25\n",
      "-6.25 \t -6.25\n"
     ]
    }
   ],
   "source": [
    "A = np.random.randint(-10, 10, (5, 5))\n",
    "\n",
    "values_A, vectors_A = np.linalg.eig(A)\n",
    "values_At, vectors_At = np.linalg.eig(A.T)\n",
    "\n",
    "for i in range(5):\n",
    "    print(values_A.flatten().round(2).real[i], '\\t', values_At.flatten().round(2).real[i])"
   ]
  }
 ],
 "metadata": {
  "kernelspec": {
   "display_name": "metodos",
   "language": "python",
   "name": "python3"
  },
  "language_info": {
   "codemirror_mode": {
    "name": "ipython",
    "version": 3
   },
   "file_extension": ".py",
   "mimetype": "text/x-python",
   "name": "python",
   "nbconvert_exporter": "python",
   "pygments_lexer": "ipython3",
   "version": "3.10.9"
  },
  "orig_nbformat": 4
 },
 "nbformat": 4,
 "nbformat_minor": 2
}
