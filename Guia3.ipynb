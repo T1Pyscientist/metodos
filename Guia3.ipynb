{
 "cells": [
  {
   "cell_type": "code",
   "execution_count": 2,
   "metadata": {},
   "outputs": [],
   "source": [
    "import numpy as np"
   ]
  },
  {
   "cell_type": "code",
   "execution_count": 3,
   "metadata": {},
   "outputs": [
    {
     "data": {
      "text/plain": [
       "[array([0, 0, 0, 0]), array([1, 0, 1, 0])]"
      ]
     },
     "execution_count": 3,
     "metadata": {},
     "output_type": "execute_result"
    }
   ],
   "source": [
    "# Ejercicio 10\n",
    "\n",
    "M = np.array([\n",
    "    [1, 0, -1, 0],\n",
    "    [0, 1, 0, 0],\n",
    "    [-1, 0, 1, 0],\n",
    "    [0, 0, 0, 1], \n",
    "])\n",
    "\n",
    "patrones = []\n",
    "\n",
    "def patron(vector, i=0):\n",
    "    if i == 4:\n",
    "        if (vector.T @ M @ vector == 0).all():\n",
    "            global patrones\n",
    "            patrones.append(vector)\n",
    "    else:\n",
    "        vector_0 = vector.copy()\n",
    "        vector_0[i] = 0\n",
    "\n",
    "        vector_1 = vector.copy()\n",
    "        vector_1[i] = 1\n",
    "        patron(vector_0, i+1)\n",
    "        patron(vector_1, i+1)\n",
    "\n",
    "\n",
    "patron(np.array([0, 0, 0, 0]))\n",
    "patrones"
   ]
  },
  {
   "cell_type": "code",
   "execution_count": 16,
   "metadata": {},
   "outputs": [
    {
     "data": {
      "text/plain": [
       "array([[0]])"
      ]
     },
     "execution_count": 16,
     "metadata": {},
     "output_type": "execute_result"
    }
   ],
   "source": [
    "patron_d = np.array([1, 0, 1, 0]).reshape(-1, 1)\n",
    "patron_d.T @ M @ patron_d"
   ]
  },
  {
   "attachments": {},
   "cell_type": "markdown",
   "metadata": {},
   "source": [
    "El patrón que detecta M es P = \n",
    "$\\left[\\begin{array}{ccc}\n",
    "1 & 1\\\\\n",
    "0 & 0\n",
    "\\end{array}\\right]$"
   ]
  },
  {
   "cell_type": "code",
   "execution_count": 7,
   "metadata": {},
   "outputs": [
    {
     "data": {
      "text/plain": [
       "array([[0]])"
      ]
     },
     "execution_count": 7,
     "metadata": {},
     "output_type": "execute_result"
    }
   ],
   "source": [
    "# Ejercicio 11\n",
    "M = np.array([\n",
    "    [1, 0, 0, -1],\n",
    "    [0, 1, 0, -1],\n",
    "    [0, 0, 1, 0],\n",
    "    [-1, -1, 0, 2], \n",
    "])\n",
    "\n",
    "patron_2 = np.array([1, 1, 0, 1]).reshape(-1, 1)\n",
    "patron_2.T @ M @ patron_2"
   ]
  },
  {
   "attachments": {},
   "cell_type": "markdown",
   "metadata": {},
   "source": [
    "El patrón que detecta M es P = \n",
    "$\\left[\\begin{array}{ccc}\n",
    "1 & 1\\\\\n",
    "1 & 0\n",
    "\\end{array}\\right]$"
   ]
  },
  {
   "cell_type": "code",
   "execution_count": 15,
   "metadata": {},
   "outputs": [
    {
     "name": "stdout",
     "output_type": "stream",
     "text": [
      "0.001\n",
      "[[ 997999.9998605 ]\n",
      " [-996999.99986064]]\n",
      "0.0001\n",
      "[[ 99979999.49762456]\n",
      " [-99969999.4976748 ]]\n",
      "1e-05\n",
      "[[ 9.99981027e+09]\n",
      " [-9.99971027e+09]]\n",
      "1e-06\n",
      "[[ 9.99909107e+11]\n",
      " [-9.99908108e+11]]\n",
      "1e-07\n",
      "[[ 1.01204466e+14]\n",
      " [-1.01204456e+14]]\n"
     ]
    }
   ],
   "source": [
    "b = np.random.randint(0, 4, size=(2, 1))\n",
    "\n",
    "for k in range(3, 8):\n",
    "    epsilon = 1 * (10 ** (-k))\n",
    "    print(epsilon)\n",
    "    A = np.array([\n",
    "        [1, 1 + epsilon],\n",
    "        [1-epsilon, 1]\n",
    "    ])\n",
    "    print(np.linalg.solve(A, b))\n"
   ]
  },
  {
   "cell_type": "code",
   "execution_count": 24,
   "metadata": {},
   "outputs": [
    {
     "name": "stdout",
     "output_type": "stream",
     "text": [
      "[[3.94]\n",
      " [0.49]]\n",
      "[[2.9]\n",
      " [2. ]]\n",
      "3362.9997026460996\n"
     ]
    }
   ],
   "source": [
    "# Ejercicio 20\n",
    "\n",
    "A = np.array([\n",
    "    [4.5, 3.1],\n",
    "    [1.6, 1.1]\n",
    "])\n",
    "\n",
    "b = np.array([19.249, 6.843]).reshape(-1, 1)\n",
    "b_round = np.array([19.25, 6.84]).reshape(-1, 1)\n",
    "\n",
    "print(np.linalg.solve(A, b))\n",
    "print(np.linalg.solve(A, b_round))\n",
    "\n",
    "print(np.linalg.cond(A))"
   ]
  },
  {
   "cell_type": "code",
   "execution_count": 54,
   "metadata": {},
   "outputs": [
    {
     "name": "stdout",
     "output_type": "stream",
     "text": [
      "23682.927874709585\n"
     ]
    },
    {
     "data": {
      "text/plain": [
       "array([[-4.85833596e-13],\n",
       "       [-1.36690659e-11],\n",
       "       [ 6.64179822e-12],\n",
       "       [-6.91358082e-12]])"
      ]
     },
     "execution_count": 54,
     "metadata": {},
     "output_type": "execute_result"
    }
   ],
   "source": [
    "# Ejercicio 21\n",
    "A = np.array([\n",
    "    [4, 0, -7, -7],\n",
    "    [-6, 1, 11, 9],\n",
    "    [7, -5, 10, 19],\n",
    "    [-1, 2, 3, -1]\n",
    "])\n",
    "print(np.linalg.cond(A))\n",
    "\n",
    "x = np.random.randint(-15, 15, size=(4, 1))\n",
    "b = A @ x\n",
    "np.linalg.solve(A, b) - x"
   ]
  },
  {
   "cell_type": "code",
   "execution_count": 61,
   "metadata": {},
   "outputs": [
    {
     "name": "stdout",
     "output_type": "stream",
     "text": [
      "68622.45483765131\n"
     ]
    },
    {
     "data": {
      "text/plain": [
       "array([[ 7.77848896e-11],\n",
       "       [-1.65703007e-10],\n",
       "       [ 8.21067658e-11],\n",
       "       [ 3.87245791e-12],\n",
       "       [-1.13686838e-13]])"
      ]
     },
     "execution_count": 61,
     "metadata": {},
     "output_type": "execute_result"
    }
   ],
   "source": [
    "# Ejercicio 22\n",
    "A = np.array([\n",
    "    [5, 3, 1, 7, 9],\n",
    "    [6, 4, 2, 8, -8],\n",
    "    [7, 5, 3, 10, 9],\n",
    "    [9, 6, 4, -9, -5],\n",
    "    [8, 5, 2, 11, 4]\n",
    "])\n",
    "\n",
    "print(np.linalg.cond(A))\n",
    "\n",
    "x = np.random.randint(-15, 15, size=(5, 1))\n",
    "b = A @ x\n",
    "np.linalg.solve(A, b) - x"
   ]
  },
  {
   "cell_type": "code",
   "execution_count": 49,
   "metadata": {},
   "outputs": [
    {
     "name": "stdout",
     "output_type": "stream",
     "text": [
      "[[6. 6. 8. ... 0. 0. 0.]\n",
      " [4. 1. 7. ... 0. 0. 0.]\n",
      " [9. 8. 1. ... 0. 0. 0.]\n",
      " ...\n",
      " [0. 0. 0. ... 3. 0. 1.]\n",
      " [0. 0. 0. ... 7. 7. 6.]\n",
      " [0. 0. 0. ... 6. 7. 5.]]\n"
     ]
    }
   ],
   "source": [
    "# Ejercicio 26 \n",
    "A  = np.random.randint(0, 10, (20, 30))\n",
    "\n",
    "# a)\n",
    "A[14:20, :]\n",
    "A[:, 4:10]\n",
    "# b)\n",
    "B = np.random.randint(0, 1, (5, 10))\n",
    "A[9:14, 19:29] = B\n",
    "# c)\n",
    "C = np.concatenate([np.concatenate([A, np.zeros((20, 20))], axis=1), np.concatenate([np.zeros((30, 30)), A.T], axis=1)], axis=0)\n",
    "print(C)"
   ]
  },
  {
   "cell_type": "code",
   "execution_count": 51,
   "metadata": {},
   "outputs": [
    {
     "data": {
      "text/plain": [
       "array([[151, 199, 143, ..., 171, 190, 195],\n",
       "       [180, 257, 169, ..., 235, 229, 201],\n",
       "       [206, 249, 193, ..., 251, 227, 243],\n",
       "       ...,\n",
       "       [197, 265, 153, ..., 229, 248, 224],\n",
       "       [190, 221, 168, ..., 208, 216, 248],\n",
       "       [183, 206, 173, ..., 213, 173, 203]])"
      ]
     },
     "execution_count": 51,
     "metadata": {},
     "output_type": "execute_result"
    }
   ],
   "source": [
    "# Ejercicio 27\n",
    "A = np.random.randint(0, 5, (50, 50))\n",
    "B = np.random.randint(0, 5, (50, 50))\n",
    "\n",
    "def sumaPorPartes(A, B):\n",
    "    A11 = A[:25, :25]\n",
    "    A12 = A[:25, 25:]\n",
    "    A21 = A[25:, :25]\n",
    "    A22 = A[25:, 25:]\n",
    "\n",
    "    B11 = B[:25, :25]\n",
    "    B12 = B[:25, 25:]\n",
    "    B21 = B[25:, :25]\n",
    "    B22 = B[25:, 25:]\n",
    "\n",
    "    C11 = A11 + B11\n",
    "    C12 = A12 + B12\n",
    "    C21 = A21 + B21\n",
    "    C22 = A22 + B22\n",
    "\n",
    "    return np.concatenate([np.concatenate([C11, C12], axis=1), np.concatenate([C21, C22], axis=1)], axis=0)\n",
    "\n",
    "def multiplicacionPorPartes(A, B):\n",
    "    A11, A12 = A[:25, :25], A[:25, 25:]\n",
    "    A21, A22 = A[25:, :25], A[25:, 25:]\n",
    "\n",
    "    B11, B12 = B[:25, :25], B[:25, 25:]\n",
    "    B21, B22 = B[25:, :25], B[25:, 25:]\n",
    "\n",
    "\n",
    "    C11 = A11 @ B11 + A12 @ B21\n",
    "    C12 = A11 @ B12 + A12 @ B22\n",
    "    C21 = A21 @ B11 + A22 @ B21\n",
    "    C22 = A21 @ B12 + A22 @ B22\n",
    "\n",
    "    return np.concatenate([np.concatenate([C11, C12], axis=1), np.concatenate([C21, C22], axis=1)], axis=0)\n",
    "\n",
    "multiplicacionPorPartes(A, B)"
   ]
  },
  {
   "cell_type": "code",
   "execution_count": 87,
   "metadata": {},
   "outputs": [],
   "source": [
    "# Ejercicio 28\n",
    "def mult(A, B):\n",
    "    m = [[] for _ in range(len(A))]\n",
    "    for col in range(len(B[0])):\n",
    "        for row in range(len(A)):\n",
    "            c_ij = 0\n",
    "            for e in range(len(B[0])):\n",
    "                c_ij += (A[col][e] * B[e][row])\n",
    "            m[col].append(c_ij)\n",
    "\n",
    "    return m\n",
    "\n",
    "def multPartes(A:list, B:list, bloque:int):\n",
    "    if len(A) % bloque != 0:\n",
    "        return ValueError('No se puede dividir en esos bloques') \n",
    "    \n",
    "    c_b = len(A) // bloque\n",
    "    C = []\n",
    "    for i in range(c_b):\n",
    "        for j in range(c_b):\n",
    "            Aij = [row[j*c_b: (j+1)*c_b] for row in A[i*c_b: (i+1)*c_b]]\n",
    "            Bij = [row[i*c_b: (i+1)*c_b] for row in B[j*c_b: (j+1)*c_b]]\n",
    "            print(Aij, Bij)\n",
    "            # Cij = mult(Aij, Bij)  \n",
    "            # C.append(Cij)\n",
    "\n",
    "    return C\n",
    "\n"
   ]
  },
  {
   "cell_type": "code",
   "execution_count": 90,
   "metadata": {},
   "outputs": [
    {
     "name": "stdout",
     "output_type": "stream",
     "text": [
      "[[1, 0], [0, 1]] [[1, 5], [5, 6]]\n",
      "[[0, 0], [0, 0]] [[3, 6], [8, 4]]\n",
      "[[0, 0], [0, 0]] [[3, 8], [8, 2]]\n",
      "[[1, 0], [0, 1]] [[3, 9], [3, 3]]\n"
     ]
    },
    {
     "data": {
      "text/plain": [
       "[]"
      ]
     },
     "execution_count": 90,
     "metadata": {},
     "output_type": "execute_result"
    }
   ],
   "source": [
    "A = [\n",
    "    [1, 0, 0, 0],\n",
    "    [0, 1, 0, 0],\n",
    "    [0, 0, 1, 0],\n",
    "    [0, 0, 0, 1]\n",
    "]\n",
    "\n",
    "B = [\n",
    "    [1, 5, 3, 8],\n",
    "    [5, 6, 8, 2],\n",
    "    [3, 6, 3 ,9],\n",
    "    [8, 4, 3, 3]\n",
    "]\n",
    "\n",
    "C = [\n",
    "    [A11*B11 + A12*B21, A11*B12 + A12*B22],\n",
    "    [A21*B11 + A22*B21, A21*B12 + A22*B22]\n",
    "]\n",
    "\n",
    "multPartes(A, B, 2)"
   ]
  },
  {
   "cell_type": "code",
   "execution_count": 3,
   "metadata": {},
   "outputs": [],
   "source": [
    "# Ejercicio 30\n",
    "CIE = np.array([\n",
    "    [0.61, 0.29, 0.150],\n",
    "    [0.32, 0.59, 0.063],\n",
    "    [0.04, 0.12, 0.787]\n",
    "])\n",
    "\n",
    "CIE_INV = np.linalg.inv(CIE)"
   ]
  },
  {
   "attachments": {},
   "cell_type": "markdown",
   "metadata": {},
   "source": [
    "Sea CIE = \n",
    "$\\left[\\begin{array}{ccc}\n",
    "0,61 \\ \\ 0,29  \\ \\ 0,150 \\\\\n",
    "0,32 \\ \\ 0,59 \\ \\ 0,063 \\\\\n",
    "0,04 \\ \\ 0,12 \\ \\ 0,787\n",
    "\\end{array}\\right]$\n",
    "\n",
    "CIE \n",
    "$\\left[\\begin{array}{ccc}\n",
    "R \\\\\n",
    "G \\\\ \n",
    "B\n",
    "\\end{array}\\right]$ = \n",
    "$\\left[\\begin{array}{ccc}\n",
    "X \\\\\n",
    "Y \\\\\n",
    "Z\n",
    "\\end{array}\\right]$ => $CIE^{-1}$\n",
    "$\\left[\\begin{array}{ccc}\n",
    "X \\\\\n",
    "Y \\\\\n",
    "Z\n",
    "\\end{array}\\right]$ = \n",
    "$\\left[\\begin{array}{ccc}\n",
    "R \\\\\n",
    "G \\\\ \n",
    "B\n",
    "\\end{array}\\right]$"
   ]
  },
  {
   "cell_type": "code",
   "execution_count": 7,
   "metadata": {},
   "outputs": [
    {
     "data": {
      "text/plain": [
       "array([[140.],\n",
       "       [255.],\n",
       "       [200.]])"
      ]
     },
     "execution_count": 7,
     "metadata": {},
     "output_type": "execute_result"
    }
   ],
   "source": [
    "rgb = np.array([140, 255, 200]).reshape(-1, 1)\n",
    "xyz = CIE @ rgb\n",
    "CIE_INV @ xyz"
   ]
  },
  {
   "cell_type": "code",
   "execution_count": 11,
   "metadata": {},
   "outputs": [],
   "source": [
    "# Ejercicio 31\n",
    "RGB_TO_YIQ = np.array([\n",
    "    [0.299, 0.587, 0.114],\n",
    "    [0.596, -0.275, -0.321],\n",
    "    [0.212, -0.528, 0.311]\n",
    "])\n",
    "\n",
    "RGB_TO_YIQ_INV = np.linalg.inv(RGB_TO_YIQ)\n",
    "RGB_TO_YIQ_INV\n",
    "\n",
    "def yiq_to_rgb(YIQ:np.array):\n",
    "    return RGB_TO_YIQ_INV @ YIQ\n",
    "\n"
   ]
  },
  {
   "cell_type": "code",
   "execution_count": null,
   "metadata": {},
   "outputs": [],
   "source": []
  }
 ],
 "metadata": {
  "kernelspec": {
   "display_name": "metodos",
   "language": "python",
   "name": "python3"
  },
  "language_info": {
   "codemirror_mode": {
    "name": "ipython",
    "version": 3
   },
   "file_extension": ".py",
   "mimetype": "text/x-python",
   "name": "python",
   "nbconvert_exporter": "python",
   "pygments_lexer": "ipython3",
   "version": "3.10.9"
  },
  "orig_nbformat": 4
 },
 "nbformat": 4,
 "nbformat_minor": 2
}
