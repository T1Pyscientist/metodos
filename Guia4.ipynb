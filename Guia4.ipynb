{
 "cells": [
  {
   "cell_type": "code",
   "execution_count": 1,
   "metadata": {},
   "outputs": [],
   "source": [
    "import numpy as np\n",
    "import scipy.linalg as la"
   ]
  },
  {
   "cell_type": "code",
   "execution_count": 30,
   "metadata": {},
   "outputs": [],
   "source": [
    "A = np.array([\n",
    "    [3, -1, 0, 0],\n",
    "    [-1, 3, -1, 0],\n",
    "    [0, -1, 3, -1],\n",
    "    [0, 0, -1, 3]\n",
    "])\n",
    "\n",
    "t0 = np.array([\n",
    "    10, 15, 15, 10\n",
    "]).reshape(-1, 1)"
   ]
  },
  {
   "cell_type": "code",
   "execution_count": 31,
   "metadata": {},
   "outputs": [],
   "source": [
    "U = np.array([\n",
    "    [3, -1, 0, 0],\n",
    "    [0, 8/3, -1, 0],\n",
    "    [0, 0, 21/8, -1],\n",
    "    [0, 0, 0, 55/21]\n",
    "])\n",
    "\n",
    "L = np.array([\n",
    "    [1, 0, 0, 0],\n",
    "    [-1/3, 1, 0, 0],\n",
    "    [0, -3/8, 1, 0],\n",
    "    [0, 0, -8/21, 1]\n",
    "])"
   ]
  },
  {
   "cell_type": "code",
   "execution_count": 40,
   "metadata": {},
   "outputs": [],
   "source": [
    "y1 = np.linalg.solve(L, t0)\n",
    "t1 = np.linalg.solve(U, y1)\n",
    "\n",
    "y2 = np.linalg.solve(L, t1)\n",
    "t2 = np.linalg.solve(U, y2)\n",
    "\n",
    "y3 = np.linalg.solve(L, t2)\n",
    "t3 = np.linalg.solve(U, y3)\n",
    "\n",
    "y4 = np.linalg.solve(L, t3)\n",
    "t4 = np.linalg.solve(U, y4)\n"
   ]
  },
  {
   "cell_type": "code",
   "execution_count": 7,
   "metadata": {},
   "outputs": [
    {
     "data": {
      "text/plain": [
       "array([[ 3, -5, -9, -4],\n",
       "       [ 8,  7, -6, -8],\n",
       "       [-5, -8,  3,  6],\n",
       "       [ 2, -2, -9, -5]])"
      ]
     },
     "execution_count": 7,
     "metadata": {},
     "output_type": "execute_result"
    }
   ],
   "source": [
    "A = np.array([\n",
    "    [3, -5, -9],\n",
    "    [8, 7, -6],\n",
    "    [-5, -8, 3],\n",
    "    [2, -2, -9],\n",
    "])\n",
    "\n",
    "y = np.array([-4, -8, 6, -5]).reshape(-1, 1)\n",
    "\n",
    "Ay = np.concatenate((A, y), axis=1) \n",
    "Ay"
   ]
  },
  {
   "cell_type": "code",
   "execution_count": 12,
   "metadata": {},
   "outputs": [
    {
     "data": {
      "text/plain": [
       "array([0, 0, 0])"
      ]
     },
     "execution_count": 12,
     "metadata": {},
     "output_type": "execute_result"
    }
   ],
   "source": [
    "# Si Aw = 0, w pertenece a Nul A\n",
    "A = np.array([\n",
    "    [3, -5, -3],\n",
    "    [6, -2, 0],\n",
    "    [-8,4, 1]\n",
    "])\n",
    "\n",
    "w = np.array([1, 3, -4])\n",
    "\n",
    "A @ w"
   ]
  },
  {
   "cell_type": "code",
   "execution_count": 19,
   "metadata": {},
   "outputs": [
    {
     "name": "stdout",
     "output_type": "stream",
     "text": [
      "[[0]\n",
      " [0]\n",
      " [0]\n",
      " [0]]\n",
      "[[ 6.]\n",
      " [13.]\n",
      " [ 8.]\n",
      " [ 1.]]\n"
     ]
    }
   ],
   "source": [
    "# 18\n",
    "A = np.array([\n",
    "    [-8, 5, -2, 0],\n",
    "    [-5, 2, 1, -2],\n",
    "    [10, -8, 6, -3],\n",
    "    [3, -2, 1, 0]\n",
    "])\n",
    "\n",
    "w = np.array([1, 2, 1, 0]).reshape(-1, 1)\n",
    "\n",
    "# w pertenece a Nul A\n",
    "print(A @ w)\n",
    "\n",
    "# w pertenece a Col A\n",
    "print(np.linalg.solve(A, w))"
   ]
  },
  {
   "cell_type": "code",
   "execution_count": null,
   "metadata": {},
   "outputs": [],
   "source": []
  }
 ],
 "metadata": {
  "kernelspec": {
   "display_name": "metodos",
   "language": "python",
   "name": "python3"
  },
  "language_info": {
   "codemirror_mode": {
    "name": "ipython",
    "version": 3
   },
   "file_extension": ".py",
   "mimetype": "text/x-python",
   "name": "python",
   "nbconvert_exporter": "python",
   "pygments_lexer": "ipython3",
   "version": "3.10.9"
  },
  "orig_nbformat": 4
 },
 "nbformat": 4,
 "nbformat_minor": 2
}
