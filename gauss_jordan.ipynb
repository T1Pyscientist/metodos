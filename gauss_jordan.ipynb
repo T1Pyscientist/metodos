{
 "cells": [
  {
   "cell_type": "code",
   "execution_count": 1,
   "metadata": {},
   "outputs": [],
   "source": [
    "import numpy as np\n",
    "from vector import Vector\n",
    "from matrix import Matrix"
   ]
  },
  {
   "attachments": {},
   "cell_type": "markdown",
   "metadata": {},
   "source": [
    "Espacio para probar numpy"
   ]
  },
  {
   "cell_type": "code",
   "execution_count": null,
   "metadata": {},
   "outputs": [],
   "source": [
    "a = np.array([[1 , 2, 3, 4], [5, 6, 7, 8], [9, 10, 11, 12]])\n",
    "a[:, 0]"
   ]
  },
  {
   "attachments": {},
   "cell_type": "markdown",
   "metadata": {},
   "source": [
    "### Operaciones básicas de matrices\n",
    "Multiplicación, suma y resta\n"
   ]
  },
  {
   "cell_type": "code",
   "execution_count": null,
   "metadata": {},
   "outputs": [],
   "source": [
    "def suma(m1, m2):\n",
    "    # m1 y m2 son 2-D np.array del mismo tamaño\n",
    "    vr = np.zeros(shape=m1.shape)\n",
    "    for i in range(m1.shape[0]):\n",
    "        for j in range(m1.shape[1]):\n",
    "            vr[(i, j)] = m1[(i, j)] + m2[(i, j)]\n",
    "\n",
    "    return vr\n",
    "\n",
    "def resta():\n",
    "    pass\n",
    "\n",
    "def multiplicacion():\n",
    "    pass"
   ]
  },
  {
   "cell_type": "code",
   "execution_count": null,
   "metadata": {},
   "outputs": [],
   "source": [
    "def gauss_jordan_rec(m, r):\n",
    "    # Funcion que implementa el algoritmo recursivo de reduccion de una matriz \n",
    "    # m = matriz a reducir, r = fila en la que se esta ejecutando (0 inicialmente)\n",
    "\n",
    "    n_rows, n_cols = m.shape\n",
    "\n",
    "    # Caso en que la matriz tenga mas filas que columnas\n",
    "    if r >= n_cols: return\n",
    "    pivot_col = r\n",
    "\n",
    "    # Paso 1: Elegir la columna (distinta de cero)\n",
    "    # más a la izquierda como columna pivot. \n",
    "    \n",
    "\n",
    "    \n",
    "    # Paso 2: Elegir al primer elemento (distinto de cero) de la columna como pivot.\n",
    "    # Sabemos que el while termina, porque ya se comprobo que esta columna tiene al menos un elemento != 0\n",
    "    i = r\n",
    "    while m[i, pivot_col] == 0:\n",
    "        i+=1\n",
    "    # Intercambiamos filas\n",
    "    e_row = np.copy(m[i])\n",
    "    m[i] = m[r]\n",
    "    m[r] = e_row\n",
    "    \n",
    "    # Paso 3: Usar sustitución sobre la filas para crear ceros debajo del pivot. \n",
    "    for other_row in range(r+1, n_rows):\n",
    "        below_pivot = m[other_row][pivot_col]\n",
    "        m[other_row] = [iv - below_pivot * rv for rv, iv in zip(m[r], m[other_row])]\n",
    "\n",
    "\n",
    "    # Paso 4: Ignorar la fila que contiene al pivot.\n",
    "    # Aplicar los pasos de 1 a 3 sobre todas las submatrices restantes. \n",
    "    if r+2 < n_rows:\n",
    "        gauss_jordan_rec(m, r+1)\n"
   ]
  },
  {
   "cell_type": "code",
   "execution_count": null,
   "metadata": {},
   "outputs": [],
   "source": [
    "b = np.random.randint(0, 2, (3, 4))\n",
    "print(b)\n",
    "gauss_jordan_rec(b, 0)\n",
    "b"
   ]
  },
  {
   "cell_type": "code",
   "execution_count": null,
   "metadata": {},
   "outputs": [],
   "source": [
    "def reduce_matrix(m):\n",
    "    # Funcion que implementa el algoritmo de Gauss-Jordan para la reduccion de una matriz\n",
    "    matrix = m.copy()\n",
    "    pivot_col = 0\n",
    "    n_rows, n_cols = matrix.shape\n",
    "\n",
    "    for row in range(n_rows):\n",
    "\n",
    "        if pivot_col >= n_cols:\n",
    "            return matrix\n",
    "        \n",
    "        # Encontrar la primera fila con pivot diferent de 0\n",
    "        # Cuando la encuentre, intercambiarla por la fila en la \n",
    "        # que se esta trabajando (Paso 2 del algoritmo)\n",
    "\n",
    "        # Si no se encuentra ningun pivot != 0 en la primer columna,\n",
    "        # se continua con la columna de la derecha\n",
    "        row_pivot = row\n",
    "        while matrix[row_pivot][pivot_col] == 0:\n",
    "            row_pivot += 1\n",
    "            if row_pivot == n_rows:\n",
    "                row_pivot = row\n",
    "                pivot_col += 1\n",
    "                if n_cols == pivot_col:\n",
    "                    return matrix\n",
    "        matrix[row_pivot], matrix[row] = matrix[row], matrix[row_pivot]\n",
    "\n",
    "        # Divide la fila pivot por el pivot propiamente\n",
    "        # para que sea 1.\n",
    "        pivot = matrix[row][pivot_col]\n",
    "        matrix[row] = [mrx / float(pivot) for mrx in matrix[row]]\n",
    "\n",
    "        # Usar sustitucion en las filas arriba Y debajo del pivot elegido\n",
    "        # para obtener 0. De esta manera, se obtiene la matriz escalonada\n",
    "        # reducida.\n",
    "        for other_row in range(n_rows):\n",
    "            if other_row != row:\n",
    "                below_pivot = matrix[other_row][pivot_col]\n",
    "                matrix[other_row] = [iv - below_pivot * rv for rv, iv in zip(matrix[row], matrix[other_row])]\n",
    "        pivot_col += 1\n",
    "    return matrix"
   ]
  },
  {
   "cell_type": "code",
   "execution_count": null,
   "metadata": {},
   "outputs": [],
   "source": [
    "a = np.array([\n",
    "    [1, 5, -3],\n",
    "    [-2, -13, 8],\n",
    "    [3, -3, 1]\n",
    "])\n",
    "\n",
    "reduce_matrix(a)"
   ]
  },
  {
   "cell_type": "code",
   "execution_count": 5,
   "metadata": {},
   "outputs": [
    {
     "data": {
      "text/plain": [
       "Vector3D(3, 6, 9)"
      ]
     },
     "execution_count": 5,
     "metadata": {},
     "output_type": "execute_result"
    }
   ],
   "source": [
    "v = Vector([1, 2, 3])\n",
    "u = Vector([1, 0, 1])\n",
    "v * 3"
   ]
  },
  {
   "cell_type": "code",
   "execution_count": 2,
   "metadata": {},
   "outputs": [
    {
     "data": {
      "text/plain": [
       "Matrix(\n",
       "[24 27 30 ]\n",
       "[54 63 72 ]\n",
       "[50 60 70 ]\n",
       ")"
      ]
     },
     "execution_count": 2,
     "metadata": {},
     "output_type": "execute_result"
    }
   ],
   "source": [
    "a = Matrix([[1, 2, 3], [4, 5, 6], [5, 5, 5]])\n",
    "a * a "
   ]
  }
 ],
 "metadata": {
  "kernelspec": {
   "display_name": "metodos",
   "language": "python",
   "name": "python3"
  },
  "language_info": {
   "codemirror_mode": {
    "name": "ipython",
    "version": 3
   },
   "file_extension": ".py",
   "mimetype": "text/x-python",
   "name": "python",
   "nbconvert_exporter": "python",
   "pygments_lexer": "ipython3",
   "version": "3.10.9"
  },
  "orig_nbformat": 4
 },
 "nbformat": 4,
 "nbformat_minor": 2
}
