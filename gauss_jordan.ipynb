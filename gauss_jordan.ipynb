{
 "cells": [
  {
   "cell_type": "code",
   "execution_count": 1,
   "metadata": {},
   "outputs": [],
   "source": [
    "import numpy as np\n",
    "import matplotlib.pyplot as plt\n",
    "import random\n",
    "from vector import Vector\n",
    "from matrix import Matrix"
   ]
  },
  {
   "attachments": {},
   "cell_type": "markdown",
   "metadata": {},
   "source": [
    "Espacio para probar numpy"
   ]
  },
  {
   "cell_type": "code",
   "execution_count": null,
   "metadata": {},
   "outputs": [],
   "source": [
    "a = np.array([[1 , 2, 3, 4], [5, 6, 7, 8], [9, 10, 11, 12]])\n",
    "a[:, 0]"
   ]
  },
  {
   "attachments": {},
   "cell_type": "markdown",
   "metadata": {},
   "source": []
  },
  {
   "cell_type": "code",
   "execution_count": null,
   "metadata": {},
   "outputs": [],
   "source": [
    "def gauss_jordan_rec(m, r):\n",
    "    # Funcion que implementa el algoritmo recursivo de reduccion de una matriz \n",
    "    # m = matriz a reducir, r = fila en la que se esta ejecutando (0 inicialmente)\n",
    "\n",
    "    n_rows, n_cols = m.shape\n",
    "    pivot_col = r\n",
    "\n",
    "    # Caso en que la matriz tenga mas filas que columnas\n",
    "    if r >= n_cols: return\n",
    "\n",
    "    # Paso 1: Elegir la columna (distinta de cero)\n",
    "    # más a la izquierda como columna pivot. \n",
    "    for i in range(r, n_cols):\n",
    "        for j in range(n_rows):\n",
    "            if m[j, i] != 0: break\n",
    "        pivot_col = i\n",
    "        break\n",
    "    \n",
    "    # Paso 2: Elegir al primer elemento (distinto de cero) de la columna como pivot.\n",
    "    # Sabemos que el while termina, porque ya se comprobo que esta columna tiene al menos un elemento != 0\n",
    "    i : int = r # Subindice de primer fila sin 0\n",
    "    print(pivot_col)\n",
    "    while pivot_col < n_cols and m[i, pivot_col] == 0:\n",
    "        i+=1\n",
    "    # Intercambiamos filas\n",
    "    # print(i, r)\n",
    "    m[[i, r]] = m[[r, i]]\n",
    "\n",
    "    # print(m)\n",
    "\n",
    "    # Paso 3: Usar sustitución sobre la filas para crear ceros debajo del pivot. \n",
    "    for other_row in range(r+1, n_rows):\n",
    "        below_pivot = m[other_row][pivot_col]\n",
    "        m[other_row] = [iv - rv * (below_pivot / m[r, pivot_col]) for rv, iv in zip(m[r], m[other_row])]\n",
    "\n",
    "\n",
    "    # Paso 4: Ignorar la fila que contiene al pivot.\n",
    "    # Aplicar los pasos de 1 a 3 sobre todas las submatrices restantes. \n",
    "    if r+2 < n_rows:\n",
    "        gauss_jordan_rec(m, r+1)\n"
   ]
  },
  {
   "cell_type": "code",
   "execution_count": null,
   "metadata": {},
   "outputs": [],
   "source": [
    "b = np.random.randint(0,2, (3,3),)\n",
    "# b = np.array([\n",
    "#     [3, 1, 2],\n",
    "#     [1, 1, 2]\n",
    "# ])\n",
    "print(b)\n",
    "gauss_jordan_rec(b, 0)\n",
    "b"
   ]
  },
  {
   "cell_type": "code",
   "execution_count": 6,
   "metadata": {},
   "outputs": [],
   "source": [
    "def reduce_matrix(m):\n",
    "    # Funcion que implementa el algoritmo de Gauss-Jordan para la reduccion de una matriz\n",
    "    matrix = m.copy()\n",
    "    pivot_col = 0\n",
    "    n_rows, n_cols = matrix.shape\n",
    "\n",
    "    for row in range(n_rows):\n",
    "\n",
    "        if pivot_col >= n_cols:\n",
    "            return matrix\n",
    "        \n",
    "        # Encontrar la primera fila con pivot diferent de 0\n",
    "        # Cuando la encuentre, intercambiarla por la fila en la \n",
    "        # que se esta trabajando (Paso 2 del algoritmo)\n",
    "\n",
    "        # Si no se encuentra ningun pivot != 0 en la primer columna,\n",
    "        # se continua con la columna de la derecha\n",
    "        row_pivot = row\n",
    "        while matrix[row_pivot][pivot_col] == 0:\n",
    "            row_pivot += 1\n",
    "            if row_pivot == n_rows:\n",
    "                row_pivot = row\n",
    "                pivot_col += 1\n",
    "                if n_cols == pivot_col:\n",
    "                    return matrix\n",
    "        matrix[row_pivot], matrix[row] = matrix[row], matrix[row_pivot]\n",
    "\n",
    "        # Divide la fila pivot por el pivot propiamente\n",
    "        # para que sea 1.\n",
    "        pivot = matrix[row][pivot_col]\n",
    "        matrix[row] = [mrx / float(pivot) for mrx in matrix[row]]\n",
    "\n",
    "        # Usar sustitucion en las filas arriba Y debajo del pivot elegido\n",
    "        # para obtener 0. De esta manera, se obtiene la matriz escalonada\n",
    "        # reducida.\n",
    "        for other_row in range(n_rows):\n",
    "            if other_row != row:\n",
    "                below_pivot = matrix[other_row][pivot_col]\n",
    "                matrix[other_row] = [iv - below_pivot * rv for rv, iv in zip(matrix[row], matrix[other_row])]\n",
    "        pivot_col += 1\n",
    "    return matrix"
   ]
  },
  {
   "cell_type": "code",
   "execution_count": 4,
   "metadata": {},
   "outputs": [],
   "source": [
    "def generate_An(n:int) -> np.ndarray:\n",
    "    return np.vstack([\n",
    "        np.hstack([\n",
    "            np.tri(n-1, n-1, -1) * - 1 + np.diag(np.ones(n-1)),\n",
    "            np.ones((n-1, 1 ))\n",
    "        ]) ,\n",
    "        np.concatenate([np.ones( n-1) * -1, [ 1 ]])\n",
    "    ])"
   ]
  },
  {
   "cell_type": "code",
   "execution_count": 68,
   "metadata": {},
   "outputs": [],
   "source": [
    "def sistema_An(n:int, b:np.ndarray) -> np.ndarray:\n",
    "    m_aumentada = np.column_stack((generate_An(n), b))\n",
    "    return reduce_matrix(m_aumentada)[:, -1]"
   ]
  },
  {
   "cell_type": "code",
   "execution_count": 65,
   "metadata": {},
   "outputs": [],
   "source": [
    "def error(A:np.ndarray, x:np.ndarray, b:np.ndarray):\n",
    "    v = A.dot(x) - b\n",
    "    return v.dot(v)"
   ]
  },
  {
   "cell_type": "code",
   "execution_count": 85,
   "metadata": {},
   "outputs": [
    {
     "data": {
      "image/png": "[encoded data removed]",
      "text/plain": [
       "<Figure size 432x288 with 1 Axes>"
      ]
     },
     "metadata": {
      "needs_background": "light"
     },
     "output_type": "display_data"
    }
   ],
   "source": [
    "errors:list[int] = []\n",
    "\n",
    "for n in range(3, 30):\n",
    "    errors_subn = []\n",
    "    for i in range(30):\n",
    "        b = np.random.rand(n, 1)\n",
    "        x = sistema_An(n, b)\n",
    "        e = error(generate_An(n), x, b.T[0])\n",
    "        errors_subn.append(e)\n",
    "    errors.append(sum(errors_subn) / 30)  \n",
    "\n",
    "fig, ax = plt.subplots()\n",
    "ax.plot([n for n in range(3, 30)], errors)\n",
    "plt.show()"
   ]
  },
  {
   "attachments": {},
   "cell_type": "markdown",
   "metadata": {},
   "source": [
    "Vemos que el error aumenta de manera exponencial respecto a las dimensiones de A. ¿A que se debe el error?"
   ]
  },
  {
   "attachments": {},
   "cell_type": "markdown",
   "metadata": {},
   "source": [
    "### Guia 3"
   ]
  },
  {
   "cell_type": "code",
   "execution_count": 25,
   "metadata": {},
   "outputs": [
    {
     "data": {
      "text/plain": [
       "array([[3., 0., 0., 0.],\n",
       "       [0., 4., 0., 0.],\n",
       "       [0., 0., 2., 0.],\n",
       "       [0., 0., 0., 5.]])"
      ]
     },
     "execution_count": 25,
     "metadata": {},
     "output_type": "execute_result"
    }
   ],
   "source": [
    "# Ejercicio 5\n",
    "\n",
    "def mat45zeros():\n",
    "    return np.zeros((4, 5))\n",
    "    return [[0 for _ in range(5)] for _ in range(4)]\n",
    "\n",
    "def mat53unos():\n",
    "    return np.ones((5, 3))\n",
    "\n",
    "def identidad():\n",
    "    return np.identity(5)\n",
    "\n",
    "def diagonal(elems=[3, 4, 2, 5]):\n",
    "    return np.identity(4) * np.array(elems)\n",
    "\n",
    "diagonal()"
   ]
  },
  {
   "cell_type": "code",
   "execution_count": 47,
   "metadata": {},
   "outputs": [
    {
     "data": {
      "text/plain": [
       "[[8, 6, -5], [-8, 9, 2], [-4, -2, -8]]"
      ]
     },
     "execution_count": 47,
     "metadata": {},
     "output_type": "execute_result"
    }
   ],
   "source": [
    "# Ejercicio 6\n",
    "def randomMatrix(shape:tuple, low:int, high:int) -> list[list]:\n",
    "    return [[random.randint(low, high) for c in range(shape[1])] for r in range(shape[0])]\n",
    "# np.random.randint(-9, 10, size=(3, 3))\n",
    "randomMatrix((3, 3), -9, 9)"
   ]
  },
  {
   "cell_type": "code",
   "execution_count": 13,
   "metadata": {},
   "outputs": [
    {
     "name": "stdout",
     "output_type": "stream",
     "text": [
      "[[ 0.00000000e+00 -4.44089210e-16  0.00000000e+00  0.00000000e+00]\n",
      " [ 0.00000000e+00  2.22044605e-16  0.00000000e+00  2.22044605e-16]\n",
      " [ 0.00000000e+00  0.00000000e+00  0.00000000e+00  0.00000000e+00]\n",
      " [ 0.00000000e+00  0.00000000e+00  0.00000000e+00 -1.11022302e-16]]\n",
      "[[-0.68543512 -1.67451229 -1.60306955 -1.09496208]\n",
      " [-0.07380481 -1.22262053 -0.75498369 -1.06913362]\n",
      " [ 0.49610909 -0.09074292 -0.82297639  0.11282539]\n",
      " [ 1.39174664 -0.12982616 -0.08878714  0.82925604]]\n"
     ]
    }
   ],
   "source": [
    "# Ejercicio 7\n",
    "A = np.random.rand(4, 4)\n",
    "I = np.identity(4)\n",
    "print((A + I).dot((A - I)) - ((A.dot(A)) - I))\n",
    "\n",
    "B = np.random.rand(4, 4)\n",
    "print((A + B).dot((A - B)) - ((A.dot(A)) - B))\n",
    "\n",
    "# Parece que hay mas error en el segundo caso, pero no estoy seguro."
   ]
  },
  {
   "cell_type": "code",
   "execution_count": 5,
   "metadata": {},
   "outputs": [
    {
     "name": "stdout",
     "output_type": "stream",
     "text": [
      "Matrix(\n",
      "[0 1 0 0 0 ]\n",
      "[0 0 1 0 0 ]\n",
      "[0 0 0 1 0 ]\n",
      "[0 0 0 0 1 ]\n",
      "[0 0 0 0 0 ]\n",
      ")\n",
      "Matrix(\n",
      "[0 0 1 0 0 ]\n",
      "[0 0 0 1 0 ]\n",
      "[0 0 0 0 1 ]\n",
      "[0 0 0 0 0 ]\n",
      "[0 0 0 0 0 ]\n",
      ")\n",
      "Matrix(\n",
      "[0 0 0 0 1 ]\n",
      "[0 0 0 0 0 ]\n",
      "[0 0 0 0 0 ]\n",
      "[0 0 0 0 0 ]\n",
      "[0 0 0 0 0 ]\n",
      ")\n",
      "Matrix(\n",
      "[0 0 0 0 0 ]\n",
      "[0 0 0 0 0 ]\n",
      "[0 0 0 0 0 ]\n",
      "[0 0 0 0 0 ]\n",
      "[0 0 0 0 0 ]\n",
      ")\n"
     ]
    }
   ],
   "source": [
    "# Ejercicio 8\n",
    "\n",
    "S = Matrix([\n",
    "    [0, 1, 0, 0, 0],\n",
    "    [0, 0, 1, 0, 0],\n",
    "    [0, 0, 0, 1, 0],\n",
    "    [0, 0, 0, 0, 1],\n",
    "    [0, 0, 0, 0, 0]\n",
    "])\n",
    "\n",
    "for k in range(2, 6):\n",
    "    print(S ** k)"
   ]
  },
  {
   "cell_type": "code",
   "execution_count": null,
   "metadata": {},
   "outputs": [],
   "source": [
    "# Ejercicio 9\n"
   ]
  }
 ],
 "metadata": {
  "kernelspec": {
   "display_name": "metodos",
   "language": "python",
   "name": "python3"
  },
  "language_info": {
   "codemirror_mode": {
    "name": "ipython",
    "version": 3
   },
   "file_extension": ".py",
   "mimetype": "text/x-python",
   "name": "python",
   "nbconvert_exporter": "python",
   "pygments_lexer": "ipython3",
   "version": "3.10.9"
  },
  "orig_nbformat": 4
 },
 "nbformat": 4,
 "nbformat_minor": 2
}
